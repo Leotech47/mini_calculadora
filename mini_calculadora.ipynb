{
  "nbformat": 4,
  "nbformat_minor": 0,
  "metadata": {
    "colab": {
      "provenance": [],
      "authorship_tag": "ABX9TyMpaLDlC5QfOFYFMmF1FPK5",
      "include_colab_link": true
    },
    "kernelspec": {
      "name": "python3",
      "display_name": "Python 3"
    },
    "language_info": {
      "name": "python"
    }
  },
  "cells": [
    {
      "cell_type": "markdown",
      "metadata": {
        "id": "view-in-github",
        "colab_type": "text"
      },
      "source": [
        "<a href=\"https://colab.research.google.com/github/leotech-projects/mini_calculadora/blob/main/mini_calculadora.ipynb\" target=\"_parent\"><img src=\"https://colab.research.google.com/assets/colab-badge.svg\" alt=\"Open In Colab\"/></a>"
      ]
    },
    {
      "cell_type": "markdown",
      "source": [
        "Mini-Calculadora Interativa em Python\n",
        "Este projeto é uma mini-calculadora interativa desenvolvida em Python. O programa permite ao usuário realizar várias operações matemáticas básicas e avançadas, incluindo soma, subtração, multiplicação, divisão, potência, módulo e raiz quadrada. A calculadora funciona em loop, permitindo múltiplas operações até que o usuário escolha encerrar o programa."
      ],
      "metadata": {
        "id": "bFMfrMrEiFJQ"
      }
    },
    {
      "cell_type": "code",
      "execution_count": null,
      "metadata": {
        "id": "2vzNAxVsiBsS"
      },
      "outputs": [],
      "source": [
        "import math\n",
        "\n",
        "while True:\n",
        "    print(\"\\nOperações disponíveis:\")\n",
        "    print(\" + : Soma\")\n",
        "    print(\" - : Subtração\")\n",
        "    print(\" * : Multiplicação\")\n",
        "    print(\" / : Divisão\")\n",
        "    print(\" ^ : Potência\")\n",
        "    print(\" % : Módulo\")\n",
        "    print(\" r : Raiz quadrada\")\n",
        "    print(\" sair : Encerrar a calculadora\")\n",
        "\n",
        "    operacao = input(\"\\nEscolha a operação: \").lower()\n",
        "\n",
        "    if operacao == \"sair\":\n",
        "        print(\"Encerrando a calculadora. Até mais!\")\n",
        "        break\n",
        "\n",
        "    # Para raiz quadrada, só é necessário um número\n",
        "    if operacao == \"r\":\n",
        "        a = float(input(\"Digite o número para calcular a raiz quadrada: \"))\n",
        "        if a >= 0:\n",
        "            resultado = math.sqrt(a)\n",
        "        else:\n",
        "            resultado = \"Erro: número negativo não tem raiz quadrada real\"\n",
        "\n",
        "    else:\n",
        "        a = float(input(\"Digite o primeiro número: \"))\n",
        "        b = float(input(\"Digite o segundo número: \"))\n",
        "\n",
        "        if operacao == \"+\":\n",
        "            resultado = a + b\n",
        "        elif operacao == \"-\":\n",
        "            resultado = a - b\n",
        "        elif operacao == \"*\":\n",
        "            resultado = a * b\n",
        "        elif operacao == \"/\":\n",
        "            resultado = a / b if b != 0 else \"Erro: divisão por zero\"\n",
        "        elif operacao == \"^\":\n",
        "            resultado = a ** b\n",
        "        elif operacao == \"%\":\n",
        "            resultado = a % b\n",
        "        else:\n",
        "            resultado = \"Operação inválida\"\n",
        "\n",
        "    print(\"Resultado:\", resultado)"
      ]
    }
  ]
}